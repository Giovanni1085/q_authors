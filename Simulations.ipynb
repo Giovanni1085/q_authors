{
 "cells": [
  {
   "cell_type": "markdown",
   "metadata": {
    "collapsed": false
   },
   "source": [
    "Simulations of a theorical setting which replicates the same results as Sinatra et al. We use here both a power law and a uniform probability distributions to generate the impact of an article (c_ten), and show that with both the "
   ]
  },
  {
   "cell_type": "code",
   "execution_count": 1,
   "metadata": {
    "collapsed": false
   },
   "outputs": [],
   "source": [
    "%matplotlib inline\n",
    "import matplotlib.pyplot as plt\n",
    "plt.style.use('ggplot')\n",
    "import warnings\n",
    "warnings.filterwarnings(\"ignore\")\n",
    "\n",
    "%matplotlib inline\n",
    "%load_ext autoreload\n",
    "%autoreload 2\n",
    "\n",
    "import numpy as np\n",
    "import random, math\n",
    "random.seed(100)"
   ]
  },
  {
   "cell_type": "markdown",
   "metadata": {},
   "source": [
    "Global parameters for the simulations\n",
    "A lognormal determines the nuber of articles published by an author. The interplay of a power law and a uniform distributions determine the number of citations received for each article."
   ]
  },
  {
   "cell_type": "code",
   "execution_count": 2,
   "metadata": {
    "collapsed": true
   },
   "outputs": [],
   "source": [
    "N_AUTHORS = 5000 # number of authors in the simulation\n",
    "CAREER_WINDOW = 20 # up to 20 the productivity is uniform over years.\n",
    "PROP_PL = 0.5 # between 0 and 1. 0 all authors sample from uniform, 1 from power law. 0.5 half from each. \n",
    "#Note that each author either samples from power law or uniform, not both.\n",
    "\n",
    "# Lognormal for number of author contributions, with the same parameters as in the article (see figure 3B, caption)\n",
    "# See docs for lognorm.pdf(x, ln_sd, ln_loc, ln_mean)\n",
    "ln_mean = np.exp(3.6)\n",
    "ln_sd = 0.57\n",
    "ln_loc = 0\n",
    "\n",
    "# Power law\n",
    "exponent = 1.2 # quite low, play with it!\n",
    "max_citations_pl = 500 # max possible number of received citations\n",
    "\n",
    "# Uniform\n",
    "min_citations_u = 1\n",
    "max_citations_u = 100"
   ]
  },
  {
   "cell_type": "code",
   "execution_count": 3,
   "metadata": {
    "collapsed": false
   },
   "outputs": [
    {
     "data": {
      "text/plain": [
       "[<matplotlib.lines.Line2D at 0x10f3ebf60>]"
      ]
     },
     "execution_count": 3,
     "metadata": {},
     "output_type": "execute_result"
    },
    {
     "data": {
      "image/png": "[encoded data removed]",
      "text/plain": [
       "<matplotlib.figure.Figure at 0x1042b39b0>"
      ]
     },
     "metadata": {},
     "output_type": "display_data"
    }
   ],
   "source": [
    "# inspect the lognormal\n",
    "from scipy.stats import lognorm, powerlaw\n",
    "\n",
    "x = np.linspace(lognorm.ppf(0.01, ln_sd, ln_loc, ln_mean), lognorm.ppf(0.99, ln_sd, ln_loc, ln_mean), 1000)\n",
    "plt.semilogx(x, lognorm.pdf(x, ln_sd, ln_loc, ln_mean), 'r-', lw=1, alpha=0.6, label='lognorm pdf')"
   ]
  },
  {
   "cell_type": "markdown",
   "metadata": {},
   "source": [
    "Power law (truncated) and uniform distributions"
   ]
  },
  {
   "cell_type": "code",
   "execution_count": 4,
   "metadata": {
    "collapsed": false
   },
   "outputs": [],
   "source": [
    "# Power law\n",
    "from scipy.stats import rv_discrete\n",
    "\n",
    "def truncated_power_law(a, m):\n",
    "    x = np.arange(1, m+1, dtype='float')\n",
    "    pmf = 1/x**a\n",
    "    pmf /= pmf.sum()\n",
    "    return rv_discrete(values=(range(1, m+1), pmf))\n",
    "\n",
    "tpw = truncated_power_law(a=exponent, m=max_citations_pl)\n",
    "\n",
    "# Uniform\n",
    "def uniform(size):\n",
    "    return [random.randint(min_citations_u,max_citations_u) for x in range(size)]"
   ]
  },
  {
   "cell_type": "code",
   "execution_count": 5,
   "metadata": {
    "collapsed": false
   },
   "outputs": [
    {
     "data": {
      "image/png": "[encoded data removed]",
      "text/plain": [
       "<matplotlib.figure.Figure at 0x112376438>"
      ]
     },
     "metadata": {},
     "output_type": "display_data"
    }
   ],
   "source": [
    "# example of the power law sampling\n",
    "N = 10**4\n",
    "sample = tpw.rvs(size=N)\n",
    "\n",
    "plt.hist(sample, bins=np.arange(max_citations_pl)+0.5)\n",
    "plt.show()"
   ]
  },
  {
   "cell_type": "code",
   "execution_count": 6,
   "metadata": {
    "collapsed": false
   },
   "outputs": [],
   "source": [
    "authors = {k:list() for k in range(N_AUTHORS)}\n",
    "for a in authors.keys():\n",
    "    # generate number of papers\n",
    "    n_papers = math.ceil(lognorm.ppf(random.random(), ln_sd, ln_loc, ln_mean))\n",
    "    # select prob distribution for incoming citations\n",
    "    if random.random() <= PROP_PL:\n",
    "        received_citations = np.array(tpw.rvs(size=n_papers))\n",
    "    else:\n",
    "        received_citations = np.array(uniform(size=n_papers))\n",
    "    authors[a] = received_citations"
   ]
  },
  {
   "cell_type": "code",
   "execution_count": 7,
   "metadata": {
    "collapsed": false
   },
   "outputs": [],
   "source": [
    "# center all to max and make a vector to take means\n",
    "window = 10 # before and after max\n",
    "impact_array = np.zeros((1,1+(window*2)))\n",
    "n_pub_array = np.zeros((1,1+(window*2)))\n",
    "for a,cits in authors.items():\n",
    "    m = np.argmax(cits)\n",
    "    impact_array[0,window] += cits[m]\n",
    "    n_pub_array[0,window] += 1\n",
    "    for n in range(1,window+1):\n",
    "        # before\n",
    "        if m-n >= 0:\n",
    "            impact_array[0,window-n] += cits[m-n]\n",
    "            n_pub_array[0,window-n] += 1\n",
    "        # after\n",
    "        if m+n < len(cits):\n",
    "            impact_array[0,window+n] += cits[m+n]\n",
    "            n_pub_array[0,window+n] += 1\n",
    "impact_array = np.true_divide(impact_array,n_pub_array)"
   ]
  },
  {
   "cell_type": "code",
   "execution_count": 8,
   "metadata": {
    "collapsed": false
   },
   "outputs": [
    {
     "data": {
      "text/plain": [
       "[<matplotlib.lines.Line2D at 0x112376390>]"
      ]
     },
     "execution_count": 8,
     "metadata": {},
     "output_type": "execute_result"
    },
    {
     "data": {
      "image/png": "[encoded data removed]",
      "text/plain": [
       "<matplotlib.figure.Figure at 0x112e155c0>"
      ]
     },
     "metadata": {},
     "output_type": "display_data"
    }
   ],
   "source": [
    "# cf. plot 2B\n",
    "plt.plot(range(-window,window+1),impact_array[0,:])"
   ]
  },
  {
   "cell_type": "code",
   "execution_count": null,
   "metadata": {
    "collapsed": true
   },
   "outputs": [],
   "source": []
  }
 ],
 "metadata": {
  "anaconda-cloud": {},
  "kernelspec": {
   "display_name": "Python [conda env:lb_main]",
   "language": "python",
   "name": "conda-env-lb_main-py"
  },
  "language_info": {
   "codemirror_mode": {
    "name": "ipython",
    "version": 3
   },
   "file_extension": ".py",
   "mimetype": "text/x-python",
   "name": "python",
   "nbconvert_exporter": "python",
   "pygments_lexer": "ipython3",
   "version": "3.5.1"
  }
 },
 "nbformat": 4,
 "nbformat_minor": 1
}
